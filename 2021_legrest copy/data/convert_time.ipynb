{
 "metadata": {
  "language_info": {
   "codemirror_mode": {
    "name": "ipython",
    "version": 3
   },
   "file_extension": ".py",
   "mimetype": "text/x-python",
   "name": "python",
   "nbconvert_exporter": "python",
   "pygments_lexer": "ipython3",
   "version": "3.8.5-final"
  },
  "orig_nbformat": 2,
  "kernelspec": {
   "name": "python3",
   "display_name": "Python 3",
   "language": "python"
  }
 },
 "nbformat": 4,
 "nbformat_minor": 2,
 "cells": [
  {
   "cell_type": "code",
   "execution_count": 135,
   "metadata": {},
   "outputs": [
    {
     "output_type": "stream",
     "name": "stdout",
     "text": [
      "read file :  ./train/20210303T160024-1d.csv\nStart Datetime(sec) : 1614787224.0\n0      2021-03-03 16:00:24.124980992\n1      2021-03-03 16:00:24.171834368\n2      2021-03-03 16:00:24.218666752\n3      2021-03-03 16:00:24.265585152\n4      2021-03-03 16:00:24.312429312\n                    ...             \n2191   2021-03-03 16:02:06.685405440\n2192   2021-03-03 16:02:06.732270080\n2193   2021-03-03 16:02:06.779131136\n2194   2021-03-03 16:02:06.825998592\n2195   2021-03-03 16:02:06.872860928\nName: Measurement Time (sec), Length: 2196, dtype: datetime64[ns]\n"
     ]
    }
   ],
   "source": [
    "import pandas as pd\n",
    "import numpy as np\n",
    "import dateutil.parser as dp\n",
    "\n",
    "# set filepath\n",
    "target_file = \"20210303T160024\"\n",
    "filepath = \"./train/\"+target_file+\"-1d.csv\"\n",
    "print(\"read file : \", filepath)\n",
    "\n",
    "#time format conversion (iso format to sec)\n",
    "ref_datetime = pd.to_datetime([dp.isoparse(target_file)]).astype(int)/10**9\n",
    "print(\"Start Datetime(sec) :\",ref_datetime[0])\n",
    "\n",
    "# read fsr data\n",
    "fsr_data = pd.read_csv(filepath, header=0, index_col=False)\n",
    "\n",
    "# get time column and time conversion\n",
    "fsr_data_time_s = fsr_data[\"Measurement Time (sec)\"]+ref_datetime[0]\n",
    "\n",
    "# converting to timestamp format\n",
    "converted_datetime = pd.to_datetime(fsr_data_time_s, unit='s')\n",
    "print(converted_datetime)\n",
    "\n",
    "\n",
    "# insert new column for time\n",
    "fsr_data.insert(0, \"mtime\", converted_datetime, True)\n",
    "#print(fsr_data)\n",
    "\n",
    "# write file\n",
    "fsr_data.to_csv('./train/test.csv', index=False)\n",
    "\n",
    "\n",
    "\n",
    "# print(sec_time_ms[0])"
   ]
  }
 ]
}