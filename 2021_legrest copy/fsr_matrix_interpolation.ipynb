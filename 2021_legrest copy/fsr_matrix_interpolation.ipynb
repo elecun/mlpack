{
 "metadata": {
  "language_info": {
   "codemirror_mode": {
    "name": "ipython",
    "version": 3
   },
   "file_extension": ".py",
   "mimetype": "text/x-python",
   "name": "python",
   "nbconvert_exporter": "python",
   "pygments_lexer": "ipython3",
   "version": 3
  },
  "orig_nbformat": 2
 },
 "nbformat": 4,
 "nbformat_minor": 2,
 "cells": [
  {
   "cell_type": "code",
   "execution_count": null,
   "metadata": {},
   "outputs": [],
   "source": [
    "\n",
    "idx = 1\n",
    "fsr_data = fsr_dataframe[idx].iloc[:,1:161]\n",
    "fsr_data_3d = fsr_data.values.reshape(-1, 16, 10) #convert to 3d\n",
    "\n",
    "rindx = 684\n",
    "plt.figure(figsize=(18,6), constrained_layout=True)\n",
    "plt.matshow(fsr_data_3d[rindx], cmap=plt.get_cmap('bwr'))\n",
    "plt.clim(0, 255)\n",
    "plt.colorbar()\n",
    "plt.show()\n",
    "\n",
    "methods = [None, 'none', 'nearest', 'bilinear', 'bicubic', 'spline16',\n",
    "           'spline36', 'hanning', 'hamming', 'hermite', 'kaiser', 'quadric',\n",
    "           'catrom', 'gaussian', 'bessel', 'mitchell', 'sinc', 'lanczos']\n",
    "\n",
    "fig, axs = plt.subplots(nrows=3, ncols=6, figsize=(24, 24), subplot_kw={'xticks': [], 'yticks': []})\n",
    "for ax, interp_method in zip(axs.flat, methods):\n",
    "    ax.imshow(fsr_data_3d[rindx], interpolation=interp_method, cmap='viridis')\n",
    "    ax.set_title(str(interp_method))\n",
    "plt.tight_layout()\n",
    "plt.show()"
   ]
  }
 ]
}