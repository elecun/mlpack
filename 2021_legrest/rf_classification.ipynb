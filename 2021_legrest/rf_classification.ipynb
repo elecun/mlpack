{
 "metadata": {
  "language_info": {
   "codemirror_mode": {
    "name": "ipython",
    "version": 3
   },
   "file_extension": ".py",
   "mimetype": "text/x-python",
   "name": "python",
   "nbconvert_exporter": "python",
   "pygments_lexer": "ipython3",
   "version": "3.8.5-final"
  },
  "orig_nbformat": 2,
  "kernelspec": {
   "name": "python3",
   "display_name": "Python 3.8.5 64-bit ('venv')",
   "metadata": {
    "interpreter": {
     "hash": "dc9fe9773f9376d682cea45f9e74f2a7266b70f5de2588733e2d9075d788d26a"
    }
   }
  }
 },
 "nbformat": 4,
 "nbformat_minor": 2,
 "cells": [
  {
   "cell_type": "code",
   "execution_count": 1,
   "metadata": {},
   "outputs": [
    {
     "output_type": "stream",
     "name": "stdout",
     "text": [
      "                피시험자 ID       신장       체중       연령       성별 Seat Pos Index  \\\n0                     1        1        1        1        1              1   \n1                   NaN      NaN      NaN      NaN      NaN            NaN   \n2                  측정시간     무게중심      NaN      NaN      NaN          측정데이터   \n3      Measurement time  Seat L1  Seat L2  Seat L3  Seat L4             L1   \n4     2021-01-29-03-493       20       20       20       20          12345   \n...                 ...      ...      ...      ...      ...            ...   \n2007  2021-01-29-36-360       10       10       20       20          12345   \n2008  2021-01-29-36-391       10       10       20       20          12345   \n2009  2021-01-29-36-423       10       10       20       20          12345   \n2010  2021-01-29-36-469       10       10       20       20          12345   \n2011  2021-01-29-36-485       10       10       20       20          12345   \n\n     Unnamed: 6 Unnamed: 7 Unnamed: 8 Unnamed: 9 Unnamed: 10 Unnamed: 11  \\\n0           NaN        NaN        NaN        NaN         NaN         NaN   \n1           NaN        NaN        NaN        NaN         NaN         NaN   \n2           NaN        NaN        NaN        NaN         NaN         NaN   \n3            L2         L3         L4         L5          L6          L7   \n4         13345      12345      12345      12345       12345       12345   \n...         ...        ...        ...        ...         ...         ...   \n2007      13345      12345      12345      12345       12345       12345   \n2008      13345      12345      12345      12345       12345       12345   \n2009      13345      12345      12345      12345       12345       12345   \n2010      13345      12345      12345      12345       12345       12345   \n2011      13345      12345      12345      12345       12345       12345   \n\n     Unnamed: 12       Unnamed: 13    Unnamed: 14   Unnamed: 15 Unnamed: 16  \n0            NaN               NaN            NaN           NaN         NaN  \n1            NaN               NaN            NaN           NaN         NaN  \n2            NaN               NaN            NaN           NaN         NaN  \n3             L8  LG Recline Angle  LG Slide Pos.  LG Recline V  LG Slide V  \n4          12345              1234           1234          1234        1234  \n...          ...               ...            ...           ...         ...  \n2007       12345              1234           1234          1234        1234  \n2008       12345              1234           1234          1234        1234  \n2009       12345              1234           1234          1234        1234  \n2010       12345              1234           1234          1234        1234  \n2011       12345              1234           1234          1234        1234  \n\n[2012 rows x 17 columns]\n"
     ]
    }
   ],
   "source": [
    "'''\n",
    "User Recognition(Classification) with Random Forest\n",
    "Input : \n",
    "    (1) Pressure dist. Historgram (time-series)\n",
    "    (2) Relative Peak Point movement (time series)\n",
    "    (3) Cluster mean position movement (time-series)\n",
    "Output :\n",
    "    User Class (max. 5 person)\n",
    "'''\n",
    "\n",
    "from sklearn.ensemble import RandomForestClassifier\n",
    "from sklearn.datasets import make_classification\n",
    "import pandas as pd\n",
    "import numpy as np\n",
    "import matplotlib.pyplot as plt\n",
    "import matplotlib.mlab as mlab\n",
    "\n",
    "# load data\n",
    "raw_system_data = pd.read_csv('./data/sensor_system_log.csv', header=0, index_col=False, engine='python')\n",
    "raw_fsr_data = pd.read_csv('./data/20100201T172325/20100201T172325-1d.csv', header=0, index_col=False)\n",
    "raw_fsr_metadata = open('./data/20100201T172325/metadata.txt')\n",
    "print(raw_system_data)\n",
    "#print(raw_fsr_data)\n"
   ]
  },
  {
   "cell_type": "code",
   "execution_count": null,
   "metadata": {},
   "outputs": [],
   "source": []
  }
 ]
}