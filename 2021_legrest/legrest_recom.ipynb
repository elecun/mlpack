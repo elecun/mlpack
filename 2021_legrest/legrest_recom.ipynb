{
 "metadata": {
  "language_info": {
   "codemirror_mode": {
    "name": "ipython",
    "version": 3
   },
   "file_extension": ".py",
   "mimetype": "text/x-python",
   "name": "python",
   "nbconvert_exporter": "python",
   "pygments_lexer": "ipython3",
   "version": 3
  },
  "orig_nbformat": 2
 },
 "nbformat": 4,
 "nbformat_minor": 2,
 "cells": [
  {
   "cell_type": "code",
   "execution_count": null,
   "metadata": {},
   "outputs": [],
   "source": [
    "'''\n",
    "@brief  Legrest angle recommendataion\n",
    "@authro Byunghun Hwang <bh.hwang@iae.re.kr>\n",
    "'''\n",
    "\n",
    "import pandas as pd\n",
    "import numpy as np\n",
    "import matplotlib.pyplot as plt\n",
    "\n",
    "CONFIGURATION_FILE_PATH = \"./data/train/data_config.csv\"\n",
    "DATASET_PATH = \"./data/train/\"\n",
    "\n",
    "# load data configuration file\n",
    "data_config = pd.read_csv(CONFIGURATION_FILE_PATH, header=0, index_col=0)\n",
    "\n",
    "fsr_dataframe = {}\n",
    "seat_dataframe = {}\n",
    "\n",
    "for idx in data_config.index:\n",
    "    fsr_filepath = DATASET_PATH+data_config.loc[idx, \"fsr_matrix_1d_datafile\"] # set FSR matrix data filepath\n",
    "    seat_filepath = DATASET_PATH+data_config.loc[idx, \"seat_datafile\"] # set Seat data filepath\n",
    "    print(idx, \") read data files : \", fsr_filepath, \",\", seat_filepath)\n",
    "\n",
    "    fsr_dataframe[idx] = pd.read_csv(fsr_filepath, header=0, index_col=False).iloc[:,0:162] # read FSR matrix data file\n",
    "    seat_dataframe[idx] = pd.read_csv(seat_filepath, header=0, index_col=False) # read Seat data file\n",
    "\n",
    "    # clear unnecessary columns\n",
    "    del seat_dataframe[idx]['Measurement time'] # remove unnecessary column\n",
    "    del fsr_dataframe[idx]['Measurement Time (sec)'] # remove unnecessary column\n",
    "\n",
    "fsr_dataframe_standard_segment = {}\n",
    "fsr_dataframe_relax_segment = {}\n",
    "seat_loadcell_dataframe_standard_segment = {}\n",
    "seat_loadcell_dataframe_relax_segment = {}\n",
    "\n",
    "for idx in data_config.index:\n",
    "    mtime = data_config.loc[idx, ['standard_s_mtime', \"standard_e_mtime\", \"relax_s_mtime\", \"relax_e_mtime\"]]\n",
    "\n",
    "    # seat loadcell segmentation\n",
    "    seat_loadcell_dataframe_standard_segment[idx] = seat_dataframe[idx][(seat_dataframe[idx]['mtime']>=mtime.standard_s_mtime) & (seat_dataframe[idx]['mtime']<=mtime.standard_e_mtime)]\n",
    "    seat_loadcell_dataframe_relax_segment[idx] = seat_dataframe[idx][(seat_dataframe[idx]['mtime']>=mtime.relax_s_mtime) & (seat_dataframe[idx]['mtime']<=mtime.relax_e_mtime)]\n",
    "\n",
    "    # fsr matrix segmentation\n",
    "    fsr_dataframe_standard_segment[idx] = fsr_dataframe[idx][(fsr_dataframe[idx]['mtime']>=mtime.standard_s_mtime) & (fsr_dataframe[idx]['mtime']<=mtime.standard_e_mtime)]\n",
    "    fsr_dataframe_relax_segment[idx] = fsr_dataframe[idx][(fsr_dataframe[idx]['mtime']>=mtime.relax_s_mtime) & (fsr_dataframe[idx]['mtime']<=mtime.relax_e_mtime)]\n",
    "\n",
    "    print(\"FSR Segments@Standard size : \", len(fsr_dataframe_standard_segment[idx]), \", FSR Segments@Relax size : \", len(fsr_dataframe_relax_segment[idx]))\n",
    "    print(\"Seat Segments@Standard size : \", len(seat_loadcell_dataframe_standard_segment[idx]), \", Seat Segments@Relax size : \", len(seat_loadcell_dataframe_relax_segment[idx]))"
   ]
  },
  {
   "cell_type": "code",
   "execution_count": null,
   "metadata": {},
   "outputs": [],
   "source": [
    "from sklearn.ensemble import RandomForestRegressor\n",
    "from sklearn.datasets import make_regression\n",
    "\n",
    "X, y = make_regression(n_features=4, n_informative=2, random_state=0, shuffle=False)\n",
    "regr = RandomForestRegressor(max_depth=2, random_state=0)\n",
    "regr.fit(X, y)\n",
    "print(regr.predict([[0, 0, 0, 0]]))"
   ]
  }
 ]
}