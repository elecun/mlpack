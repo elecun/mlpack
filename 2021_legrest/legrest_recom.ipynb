{
 "metadata": {
  "language_info": {
   "codemirror_mode": {
    "name": "ipython",
    "version": 3
   },
   "file_extension": ".py",
   "mimetype": "text/x-python",
   "name": "python",
   "nbconvert_exporter": "python",
   "pygments_lexer": "ipython3",
   "version": "3.8.5"
  },
  "orig_nbformat": 2,
  "kernelspec": {
   "name": "pythonjvsc74a57bd0bd7733ef04046362eed5a1629bdd13cafa362ef6098c6612526b5bf7b26aecd0",
   "display_name": "Python 3.8.5  ('venv': venv)"
  },
  "metadata": {
   "interpreter": {
    "hash": "bd7733ef04046362eed5a1629bdd13cafa362ef6098c6612526b5bf7b26aecd0"
   }
  }
 },
 "nbformat": 4,
 "nbformat_minor": 2,
 "cells": [
  {
   "cell_type": "code",
   "execution_count": 1,
   "metadata": {},
   "outputs": [
    {
     "output_type": "stream",
     "name": "stdout",
     "text": [
      "------ Regression Model Evaluation (@standard) ------\n* R2 Score with Trainset (@standard) : 0.9730498592428459\n* R2 Score with Testset (@standard) : 0.04578668674475739\n* Feature Impotances (@standard) :\n  - user_height: 0.103\n  - user_weight: 0.170\n  - user_age: 0.338\n  - bmr: 0.047\n  - bmi: 0.342\n------ Regression Model Evaluation (@relax) ------\n* R-squared Score with Trainset (@relax) : 0.967586682134766\n* R-squared Score with Testset (@relax) : -1.0422222247042616\n* Feature Impotances (@standard) :\n  - user_height: 0.251\n  - user_weight: 0.304\n  - user_age: 0.211\n  - bmr: 0.128\n  - bmi: 0.106\n"
     ]
    }
   ],
   "source": [
    "'''\n",
    "@brief  Leg-Rest Pos Recommendataion with DecisionTree Regressor\n",
    "@author Byunghun Hwang <bh.hwang@iae.re.kr>\n",
    "@date   2021. 05. 21\n",
    "'''\n",
    "\n",
    "import pandas as pd\n",
    "import numpy as np\n",
    "from sklearn.model_selection import train_test_split\n",
    "from sklearn.tree import DecisionTreeRegressor\n",
    "import progressbar\n",
    "\n",
    "\n",
    "\n",
    "'''\n",
    "Presets & Hyper-parameters\n",
    "'''\n",
    "CONFIGURATION_FILE_PATH = \"./data/train/data_config.csv\"\n",
    "DATASET_PATH = \"./data/train/\"\n",
    "pd.set_option('display.width', 200) # for display width\n",
    "# FEATURE_LENGTH = 30 # n-dimensional data feature only use\n",
    "# NUMBER_OF_SAMPLES = 299 # number of augmented data\n",
    "# FEATURE_MAX_LENGTH = 115 # Maximum feature length\n",
    "# NUMBER_OF_RANDOM_SELECTION = 5\n",
    "# MAX_TRAIN_ITERATION = -1 # infinity\n",
    "\n",
    "\n",
    "\n",
    "'''\n",
    "1. Load configuration file\n",
    "'''\n",
    "data_config = pd.read_csv(CONFIGURATION_FILE_PATH, header=0, index_col=0)\n",
    "\n",
    "\n",
    "'''\n",
    "2. data extraction\n",
    "'''\n",
    "X = data_config.loc[:, ['user_height', 'user_weight', 'user_age']]\n",
    "bmr = 66.47+(13.75*X['user_weight'])+(5*X['user_height'])-(6.76*X['user_age'])\n",
    "bmi = X['user_weight']/(X['user_height']/100*X['user_height']/100)\n",
    "X[\"bmr\"] = bmr\n",
    "X[\"bmi\"] = bmi\n",
    "ys = data_config.loc[:, ['bestfit_angle_standard']]\n",
    "yr = data_config.loc[:, ['bestfit_angle_relax']]\n",
    "\n",
    "\n",
    "'''\n",
    "DecisionTree Regression Model\n",
    "'''\n",
    "print(\"------ Regression Model Evaluation (@standard) ------\")\n",
    "X_train, X_test, y_train, y_test = train_test_split(X, np.ravel(ys), test_size=0.33, shuffle=True)\n",
    "model_standard = DecisionTreeRegressor(\n",
    "    criterion = \"mse\",\n",
    "    max_depth=6, \n",
    "    min_samples_leaf=1, \n",
    "    random_state=1).fit(X_train, y_train)\n",
    "\n",
    "print(\"* R2 Score with Trainset (@standard) :\", model_standard.score(X_train, y_train))\n",
    "print(\"* R2 Score with Testset (@standard) :\", model_standard.score(X_test, y_test))\n",
    "print(\"* Feature Impotances (@standard) :\")\n",
    "for name, value in zip(X_train.columns, model_standard.feature_importances_):\n",
    "    print('  - {0}: {1:.3f}'.format(name, value))\n",
    "\n",
    "\n",
    "print(\"------ Regression Model Evaluation (@relax) ------\")\n",
    "X_train, X_test, y_train, y_test = train_test_split(X, np.ravel(yr), test_size=0.33, shuffle=True)\n",
    "model_relax = DecisionTreeRegressor(\n",
    "    criterion = \"mse\", # mean square error\n",
    "    max_depth=6, \n",
    "    min_samples_leaf=1, \n",
    "    random_state=1).fit(X_train, y_train)\n",
    "\n",
    "print(\"* R-squared Score with Trainset (@relax) :\", model_relax.score(X_train, y_train))\n",
    "print(\"* R-squared Score with Testset (@relax) :\", model_relax.score(X_test, y_test))\n",
    "print(\"* Feature Impotances (@standard) :\")\n",
    "for name, value in zip(X_train.columns, model_relax.feature_importances_):\n",
    "    print('  - {0}: {1:.3f}'.format(name, value))\n",
    "\n"
   ]
  },
  {
   "cell_type": "code",
   "execution_count": 2,
   "metadata": {},
   "outputs": [],
   "source": [
    "'''\n",
    "Output File Generation\n",
    "'''\n",
    "min_age = 10\n",
    "max_age = 80\n",
    "ages = np.array([min_age+i for i in range(max_age-min_age+1)])\n",
    "\n",
    "min_height = 150\n",
    "max_height = 200\n",
    "heights = np.array([min_height+i for i in range(max_height-min_height+1)])\n",
    "\n",
    "min_weight = 40\n",
    "max_weight = 100\n",
    "weights = np.array([min_weight+i for i in range(max_weight-min_weight+1)])\n"
   ]
  },
  {
   "cell_type": "code",
   "execution_count": 14,
   "metadata": {},
   "outputs": [
    {
     "output_type": "stream",
     "name": "stdout",
     "text": [
      "   0   1   2   3   4   5   6   7   8   9   ...  61  62  63  64  65  66  67  68  69  70\n0  10  11  12  13  14  15  16  17  18  19  ...  71  72  73  74  75  76  77  78  79  80\n\n[1 rows x 71 columns]\n"
     ]
    }
   ],
   "source": [
    "df = pd.DataFrame(data=[ages])\n",
    "print(df)"
   ]
  },
  {
   "cell_type": "code",
   "execution_count": 15,
   "metadata": {},
   "outputs": [
    {
     "output_type": "stream",
     "name": "stdout",
     "text": [
      "810.0\n"
     ]
    }
   ],
   "source": [
    "a = 40\n",
    "w = 60\n",
    "h = 180\n",
    "bmr = 66.47+(13.75*w)+(5*h)-(6.76*a)\n",
    "bmi = w/(h/100*h/100)\n",
    "pvs = model_standard.predict([[a,h,w,bmr,bmi]])\n",
    "print(pvs[0])"
   ]
  },
  {
   "cell_type": "code",
   "execution_count": null,
   "metadata": {},
   "outputs": [],
   "source": [
    "bar = progressbar.ProgressBar(maxval=len(ages)*len(heights)*len(weights), widgets=[progressbar.Bar('=', '[', ']'), ' ', progressbar.Percentage()])\n",
    "bar.start()\n",
    "output_standard = pd.DataFrame(columns=['age','height','weight','legrest'])\n",
    "output_relax = pd.DataFrame(columns=['age','height','weight','legrest'])\n",
    "count = 0\n",
    "for a in ages:\n",
    "    for h in heights:\n",
    "        for w in weights:\n",
    "            bmr = 66.47+(13.75*w)+(5*h)-(6.76*a)\n",
    "            bmi = w/(h/100*h/100)\n",
    "            pvs = model_standard.predict([[a,h,w,bmr,bmi]])\n",
    "            pvr = model_relax.predict([[a,h,w,bmr,bmi]])\n",
    "            output_standard = output_standard.append({'age':a, 'height':h, 'weight':w, 'legrest':pvs}, ignore_index=True)\n",
    "            output_relax = output_relax.append({'age':a, 'height':h, 'weight':w, 'legrest':pvr}, ignore_index=True)\n",
    "            count = count+1\n",
    "            bar.update(count)\n",
    "bar.finish()\n",
    "\n",
    "output_standard.to_csv('result_standard.csv')\n",
    "output_relax.to_csv('result_relax.csv')\n",
    "print(\"saved results\")"
   ]
  }
 ]
}