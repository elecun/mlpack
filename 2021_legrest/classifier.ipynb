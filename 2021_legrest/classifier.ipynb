{
 "metadata": {
  "language_info": {
   "codemirror_mode": {
    "name": "ipython",
    "version": 3
   },
   "file_extension": ".py",
   "mimetype": "text/x-python",
   "name": "python",
   "nbconvert_exporter": "python",
   "pygments_lexer": "ipython3",
   "version": "3.8.5-final"
  },
  "orig_nbformat": 2,
  "kernelspec": {
   "name": "python3",
   "display_name": "Python 3",
   "language": "python"
  }
 },
 "nbformat": 4,
 "nbformat_minor": 2,
 "cells": [
  {
   "cell_type": "code",
   "execution_count": 33,
   "metadata": {
    "tags": []
   },
   "outputs": [
    {
     "output_type": "stream",
     "name": "stdout",
     "text": [
      "***** data configurations *****\n",
      "- config data shape :  (14, 12)\n",
      "1 ) read data files :  ./data/train/20210303T160024-1dm.csv , ./data/train/data_01m.csv\n",
      "2 ) read data files :  ./data/train/20210310T104529-1dm.csv , ./data/train/data_02m.csv\n",
      "3 ) read data files :  ./data/train/20210310T110616-1dm.csv , ./data/train/data_03m.csv\n",
      "4 ) read data files :  ./data/train/20210310T132548-1dm.csv , ./data/train/data_04m.csv\n",
      "5 ) read data files :  ./data/train/20210310T153307-1dm.csv , ./data/train/data_05m.csv\n",
      "6 ) read data files :  ./data/train/20210310T154900-1dm.csv , ./data/train/data_06m.csv\n",
      "7 ) read data files :  ./data/train/20210311T131751-1dm.csv , ./data/train/data_07m.csv\n",
      "8 ) read data files :  ./data/train/20210311T134516-1dm.csv , ./data/train/data_08m.csv\n",
      "9 ) read data files :  ./data/train/20210311T150952-1dm.csv , ./data/train/data_09m.csv\n",
      "10 ) read data files :  ./data/train/20210311T153746-1dm.csv , ./data/train/data_10m.csv\n",
      "11 ) read data files :  ./data/train/20210311T154809-1dm.csv , ./data/train/data_11m.csv\n",
      "12 ) read data files :  ./data/train/20210316T163601-1dm.csv , ./data/train/data_12m.csv\n",
      "13 ) read data files :  ./data/train/20210316T165029-1dm.csv , ./data/train/data_13m.csv\n",
      "14 ) read data files :  ./data/train/20210316T172009-1dm.csv , ./data/train/data_14m.csv\n"
     ]
    }
   ],
   "source": [
    "import pandas as pd\n",
    "import numpy as np\n",
    "import matplotlib.pyplot as plt\n",
    "import matplotlib.gridspec as gridspec\n",
    "\n",
    "'''\n",
    "# data preprocessing step\n",
    "'''\n",
    "pd.set_option('display.width', 200) # for display width\n",
    "\n",
    "# 1. read data config(*.csv) file\n",
    "'''\n",
    "read all data read from data configuration file\n",
    "- note) *.xlsx must be converted to csv format because of the file format doest not support in pandas\n",
    "'''\n",
    "data_config = pd.read_csv('./data/train/data_config.csv', header=0, index_col=0)\n",
    "print(\"***** data configurations *****\")\n",
    "print(\"- config data shape : \", data_config.shape)\n",
    "\n",
    "# 2. read all data logs (FSR matrix, Seat Sensor Data)\n",
    "fsr_dataframe = {}\n",
    "seat_dataframe = {}\n",
    "\n",
    "for idx in data_config.index:\n",
    "    fsr_filepath = './data/train/'+data_config.loc[idx, \"fsr_matrix_1d_datafile\"]\n",
    "    seat_filepath = './data/train/'+data_config.loc[idx, \"seat_datafile\"]\n",
    "    print(idx, \") read data files : \", fsr_filepath, \",\", seat_filepath)\n",
    "\n",
    "    fsr_dataframe[idx] = pd.read_csv(fsr_filepath, header=0, index_col=False).iloc[:,0:162]\n",
    "    seat_dataframe[idx] = pd.read_csv(seat_filepath, header=0, index_col=False)\n"
   ]
  },
  {
   "cell_type": "code",
   "execution_count": 32,
   "metadata": {
    "tags": []
   },
   "outputs": [
    {
     "output_type": "stream",
     "name": "stdout",
     "text": [
      "[ 7  3 10  5  9]\n"
     ]
    }
   ],
   "source": [
    "# select random 5 user samples for training phase\n",
    "\n",
    "import random\n",
    "shuffled_index = np.array(data_config.index)\n",
    "random.shuffle(shuffled_index)\n",
    "print(shuffled_index[0:5]) # first 5 index select from shuffled_index\n"
   ]
  },
  {
   "cell_type": "code",
   "execution_count": 38,
   "metadata": {
    "tags": []
   },
   "outputs": [
    {
     "output_type": "stream",
     "name": "stdout",
     "text": [
      "0        0\n1        0\n2        0\n3        0\n4        1\n        ..\n2573    79\n2574    80\n2575    80\n2576    80\n2577    81\nName: Leg rest Angle, Length: 2578, dtype: int64\n"
     ]
    }
   ],
   "source": [
    "# data preprocessing for training phase\n",
    "# step 1. leg rest angle conversion\n",
    "\n",
    "#for idx in data_config.index:\n",
    "idx = 1\n",
    "legrest_angle = seat_dataframe[idx].loc[:,\"Leg rest Angle\"] # extract Leg Rest Angle from seat dataframe\n",
    "offset = legrest_angle[0] # define angle offset, because of the sensor rotation direction was inverted\n",
    "legrest_angle = np.absolute(legrest_angle-offset) # converted data\n",
    "print(legrest_angle)\n",
    "#angleset = pd.concat([angleset, legrest_angle], axis=1, ignore_index=True)"
   ]
  }
 ]
}