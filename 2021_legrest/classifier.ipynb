{
 "metadata": {
  "language_info": {
   "codemirror_mode": {
    "name": "ipython",
    "version": 3
   },
   "file_extension": ".py",
   "mimetype": "text/x-python",
   "name": "python",
   "nbconvert_exporter": "python",
   "pygments_lexer": "ipython3",
   "version": "3.8.5-final"
  },
  "orig_nbformat": 2,
  "kernelspec": {
   "name": "python3",
   "display_name": "Python 3.8.5 64-bit ('venv': venv)",
   "metadata": {
    "interpreter": {
     "hash": "fac90f133fb0c934443be837ae15bc9a42222d16bc979de8cfd8c751c3dcdee8"
    }
   }
  }
 },
 "nbformat": 4,
 "nbformat_minor": 2,
 "cells": [
  {
   "cell_type": "code",
   "execution_count": 5,
   "metadata": {},
   "outputs": [
    {
     "output_type": "stream",
     "name": "stdout",
     "text": [
      "***** data configurations *****\n",
      "- config data shape :  (11, 12)\n",
      "1 ) read data files :  ./data/train/20210303T160024-1dm.csv , ./data/train/data_01m.csv\n",
      "2 ) read data files :  ./data/train/20210310T104529-1dm.csv , ./data/train/data_02m.csv\n",
      "3 ) read data files :  ./data/train/20210310T110616-1dm.csv , ./data/train/data_03m.csv\n",
      "4 ) read data files :  ./data/train/20210310T132548-1dm.csv , ./data/train/data_04m.csv\n",
      "5 ) read data files :  ./data/train/20210310T153307-1dm.csv , ./data/train/data_05m.csv\n",
      "6 ) read data files :  ./data/train/20210310T154900-1dm.csv , ./data/train/data_06m.csv\n",
      "7 ) read data files :  ./data/train/20210311T131751-1dm.csv , ./data/train/data_07m.csv\n",
      "8 ) read data files :  ./data/train/20210311T134516-1dm.csv , ./data/train/data_08m.csv\n",
      "9 ) read data files :  ./data/train/20210311T150952-1dm.csv , ./data/train/data_09m.csv\n",
      "10 ) read data files :  ./data/train/20210311T153746-1dm.csv , ./data/train/data_10m.csv\n",
      "11 ) read data files :  ./data/train/20210311T154809-1dm.csv , ./data/train/data_11m.csv\n"
     ]
    }
   ],
   "source": [
    "import pandas as pd\n",
    "import numpy as np\n",
    "import matplotlib.pyplot as plt\n",
    "import matplotlib.gridspec as gridspec\n",
    "\n",
    "'''\n",
    "# data preprocessing step\n",
    "'''\n",
    "pd.set_option('display.width', 200) # for display width\n",
    "\n",
    "# 1. read data config(*.csv) file\n",
    "# [note] *.xlsx must be converted to csv format because of the *.xlsx format does not support\n",
    "data_config = pd.read_csv('./data/train/data_config.csv', header=0, index_col=0)\n",
    "print(\"***** data configurations *****\")\n",
    "print(\"- config data shape : \", data_config.shape)\n",
    "\n",
    "# 2. read all data logs (FSR matrix, Seat Sensor Data)\n",
    "fsr_matrix_data = {}\n",
    "seat_data = {}\n",
    "\n",
    "for idx in data_config.index:\n",
    "    fsr_filepath = './data/train/'+data_config.loc[idx, \"fsr_matrix_1d_datafile\"]\n",
    "    seat_filepath = './data/train/'+data_config.loc[idx, \"seat_datafile\"]\n",
    "    print(idx, \") read data files : \", fsr_filepath, \",\", seat_filepath)\n",
    "\n",
    "    tmp_fsr_data = pd.read_csv(fsr_filepath, header=0, index_col=False)\n",
    "    tmp_seat_data = pd.read_csv(seat_filepath, header=0, index_col=False)\n",
    "    #fsr_matrix_data[idx] = tmp_fsr_data.iloc[:,0:] # slice by the end of column\n",
    "    fsr_matrix_data[idx] = tmp_fsr_data.iloc[:,2:162] # slice by the end of column\n",
    "    #fsr_matrix = fsr_matrix_data[_id].iloc[:,2:162]\n",
    "    seat_data[idx] = tmp_seat_data"
   ]
  },
  {
   "cell_type": "code",
   "execution_count": 8,
   "metadata": {
    "tags": []
   },
   "outputs": [
    {
     "output_type": "stream",
     "name": "stdout",
     "text": [
      "      R0C0  R0C1  R0C2  R0C3  R0C4  R0C5  R0C6  R0C7  R0C8  R0C9  ...  R9C6  R9C7  R9C8  R9C9  R9C10  R9C11  R9C12  R9C13  R9C14  R9C15\n0        0     0     0     0     0     0     0     0     0     0  ...     0     0     0     0      0      0      0      0      0      0\n1        0     0     0     0     0     0     0     0     0     0  ...     0     0     0     0      0      0      0      0      0      0\n2        0     0     0     0     0     0     0     0     0     0  ...     0     0     0     0      0      0      0      0      0      0\n3        0     0     0     0     0     0     0     0     0     0  ...     0     0     0     0      0      0      0      0      0      0\n4        0     0     0     0     0     0     0     0     0     0  ...     0     0     0     0      0      0      0      0      0      0\n...    ...   ...   ...   ...   ...   ...   ...   ...   ...   ...  ...   ...   ...   ...   ...    ...    ...    ...    ...    ...    ...\n1903     0     0     0     0     0     0     0     0     0     0  ...     0     0     0     0      0      0      0      0      0      0\n1904     0     0     0     0     0     0     0     0     0     0  ...     0     0     0     0      0      0      0      0      0      0\n1905     0     0     0     0     0     0     0     0     0     0  ...     0     0     0     0      0      0      0      0      0      0\n1906     0     0     0     0     0     0     0     0     0     0  ...     0     0     0     0      0      0      0      0      0      0\n1907     0     0     0     0     0     0     0     0     0     0  ...     0     0     0     0      0      0      0      0      0      0\n\n[1908 rows x 160 columns]\n"
     ]
    }
   ],
   "source": [
    "print(fsr_matrix_data[1])"
   ]
  }
 ]
}