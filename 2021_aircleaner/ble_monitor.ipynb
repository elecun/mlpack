{
 "metadata": {
  "language_info": {
   "codemirror_mode": {
    "name": "ipython",
    "version": 3
   },
   "file_extension": ".py",
   "mimetype": "text/x-python",
   "name": "python",
   "nbconvert_exporter": "python",
   "pygments_lexer": "ipython3",
   "version": 3
  },
  "orig_nbformat": 2
 },
 "nbformat": 4,
 "nbformat_minor": 2,
 "cells": [
  {
   "cell_type": "code",
   "execution_count": null,
   "metadata": {},
   "outputs": [],
   "source": [
    "'''\n",
    "Sensor data gathering from board using GATT\n",
    "'''\n",
    "\n",
    "from __future__ import print_function\n",
    "\n",
    "import binascii\n",
    "import pygatt\n",
    "\n",
    "YOUR_DEVICE_ADDRESS = \"11:22:33:44:55:66\"\n",
    "# Many devices, e.g. Fitbit, use random addressing - this is required to\n",
    "# connect.\n",
    "ADDRESS_TYPE = pygatt.BLEAddressType.random\n",
    "\n",
    "adapter = pygatt.GATTToolBackend()\n",
    "adapter.start()\n",
    "device = adapter.connect(YOUR_DEVICE_ADDRESS, address_type=ADDRESS_TYPE)\n",
    "\n",
    "for uuid in device.discover_characteristics().keys():\n",
    "    print(\"Read UUID %s: %s\" % (uuid, binascii.hexlify(device.char_read(uuid))))"
   ]
  }
 ]
}